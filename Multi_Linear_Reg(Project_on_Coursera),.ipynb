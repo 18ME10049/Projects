{
  "nbformat": 4,
  "nbformat_minor": 0,
  "metadata": {
    "colab": {
      "name": "Multi Linear Reg(Project on Coursera),.ipynb",
      "provenance": [],
      "authorship_tag": "ABX9TyPvH2SwuTeohMX4RCz4Zog3",
      "include_colab_link": true
    },
    "kernelspec": {
      "name": "python3",
      "display_name": "Python 3"
    }
  },
  "cells": [
    {
      "cell_type": "markdown",
      "metadata": {
        "id": "view-in-github",
        "colab_type": "text"
      },
      "source": [
        "<a href=\"https://colab.research.google.com/github/18ME10049/Projects/blob/master/Multi_Linear_Reg(Project_on_Coursera)%2C.ipynb\" target=\"_parent\"><img src=\"https://colab.research.google.com/assets/colab-badge.svg\" alt=\"Open In Colab\"/></a>"
      ]
    },
    {
      "cell_type": "markdown",
      "metadata": {
        "id": "yqP81-liFs3d",
        "colab_type": "text"
      },
      "source": [
        "***Evaluate multiple linear regression models using Python***\n",
        "\n",
        "Predict sales revenue based on advertising spending through media such as TV, radio, and newspaper.\n"
      ]
    },
    {
      "cell_type": "markdown",
      "metadata": {
        "id": "dQHYWetMIE54",
        "colab_type": "text"
      },
      "source": [
        "Task-1\n",
        "**Importing Library**"
      ]
    },
    {
      "cell_type": "code",
      "metadata": {
        "id": "EkO-arlCIQpk",
        "colab_type": "code",
        "colab": {}
      },
      "source": [
        "import numpy as np\n",
        "import pandas as pd\n",
        "import seaborn as sns\n",
        "from scipy.stats import skew\n",
        "%matplotlib inline\n",
        "\n"
      ],
      "execution_count": 13,
      "outputs": []
    },
    {
      "cell_type": "code",
      "metadata": {
        "id": "n9VFa73oIwSJ",
        "colab_type": "code",
        "colab": {}
      },
      "source": [
        "import matplotlib.pyplot as plt\n",
        "plt.style.use(\"ggplot\")\n",
        "plt.rcParams['figure.figsize'] = (12, 8)"
      ],
      "execution_count": 12,
      "outputs": []
    },
    {
      "cell_type": "markdown",
      "metadata": {
        "id": "cAlBNDz7JQDT",
        "colab_type": "text"
      },
      "source": [
        "Task-2\n",
        "**Load Data**"
      ]
    },
    {
      "cell_type": "code",
      "metadata": {
        "id": "8lrKfIdbLZg5",
        "colab_type": "code",
        "colab": {
          "base_uri": "https://localhost:8080/",
          "height": 195
        },
        "outputId": "e4d4a3cc-d1ea-4aa8-b165-e005634e73f9"
      },
      "source": [
        "advert = pd.read_csv(\"Advertising.csv\")\n",
        "advert.head()"
      ],
      "execution_count": 15,
      "outputs": [
        {
          "output_type": "execute_result",
          "data": {
            "text/html": [
              "<div>\n",
              "<style scoped>\n",
              "    .dataframe tbody tr th:only-of-type {\n",
              "        vertical-align: middle;\n",
              "    }\n",
              "\n",
              "    .dataframe tbody tr th {\n",
              "        vertical-align: top;\n",
              "    }\n",
              "\n",
              "    .dataframe thead th {\n",
              "        text-align: right;\n",
              "    }\n",
              "</style>\n",
              "<table border=\"1\" class=\"dataframe\">\n",
              "  <thead>\n",
              "    <tr style=\"text-align: right;\">\n",
              "      <th></th>\n",
              "      <th>TV</th>\n",
              "      <th>Radio</th>\n",
              "      <th>Newspaper</th>\n",
              "      <th>Sales</th>\n",
              "    </tr>\n",
              "  </thead>\n",
              "  <tbody>\n",
              "    <tr>\n",
              "      <th>0</th>\n",
              "      <td>230.1</td>\n",
              "      <td>37.8</td>\n",
              "      <td>69.2</td>\n",
              "      <td>22.1</td>\n",
              "    </tr>\n",
              "    <tr>\n",
              "      <th>1</th>\n",
              "      <td>44.5</td>\n",
              "      <td>39.3</td>\n",
              "      <td>45.1</td>\n",
              "      <td>10.4</td>\n",
              "    </tr>\n",
              "    <tr>\n",
              "      <th>2</th>\n",
              "      <td>17.2</td>\n",
              "      <td>45.9</td>\n",
              "      <td>69.3</td>\n",
              "      <td>9.3</td>\n",
              "    </tr>\n",
              "    <tr>\n",
              "      <th>3</th>\n",
              "      <td>151.5</td>\n",
              "      <td>41.3</td>\n",
              "      <td>58.5</td>\n",
              "      <td>18.5</td>\n",
              "    </tr>\n",
              "    <tr>\n",
              "      <th>4</th>\n",
              "      <td>180.8</td>\n",
              "      <td>10.8</td>\n",
              "      <td>58.4</td>\n",
              "      <td>12.9</td>\n",
              "    </tr>\n",
              "  </tbody>\n",
              "</table>\n",
              "</div>"
            ],
            "text/plain": [
              "      TV  Radio  Newspaper  Sales\n",
              "0  230.1   37.8       69.2   22.1\n",
              "1   44.5   39.3       45.1   10.4\n",
              "2   17.2   45.9       69.3    9.3\n",
              "3  151.5   41.3       58.5   18.5\n",
              "4  180.8   10.8       58.4   12.9"
            ]
          },
          "metadata": {
            "tags": []
          },
          "execution_count": 15
        }
      ]
    },
    {
      "cell_type": "code",
      "metadata": {
        "id": "wkS2ejfDLrAx",
        "colab_type": "code",
        "colab": {
          "base_uri": "https://localhost:8080/",
          "height": 218
        },
        "outputId": "ee93f027-b89d-4816-ab2a-2d9ba1fd13b7"
      },
      "source": [
        "advert.info()"
      ],
      "execution_count": 7,
      "outputs": [
        {
          "output_type": "stream",
          "text": [
            "<class 'pandas.core.frame.DataFrame'>\n",
            "RangeIndex: 200 entries, 0 to 199\n",
            "Data columns (total 5 columns):\n",
            " #   Column      Non-Null Count  Dtype  \n",
            "---  ------      --------------  -----  \n",
            " 0   Unnamed: 0  200 non-null    int64  \n",
            " 1   TV          200 non-null    float64\n",
            " 2   Radio       200 non-null    float64\n",
            " 3   Newspaper   200 non-null    float64\n",
            " 4   Sales       200 non-null    float64\n",
            "dtypes: float64(4), int64(1)\n",
            "memory usage: 7.9 KB\n"
          ],
          "name": "stdout"
        }
      ]
    },
    {
      "cell_type": "code",
      "metadata": {
        "id": "RyEvqjYLOBu1",
        "colab_type": "code",
        "colab": {
          "base_uri": "https://localhost:8080/",
          "height": 284
        },
        "outputId": "02815e5c-0c5d-4ee2-d5f6-ee972afa6cfc"
      },
      "source": [
        "advert.describe()"
      ],
      "execution_count": 17,
      "outputs": [
        {
          "output_type": "execute_result",
          "data": {
            "text/html": [
              "<div>\n",
              "<style scoped>\n",
              "    .dataframe tbody tr th:only-of-type {\n",
              "        vertical-align: middle;\n",
              "    }\n",
              "\n",
              "    .dataframe tbody tr th {\n",
              "        vertical-align: top;\n",
              "    }\n",
              "\n",
              "    .dataframe thead th {\n",
              "        text-align: right;\n",
              "    }\n",
              "</style>\n",
              "<table border=\"1\" class=\"dataframe\">\n",
              "  <thead>\n",
              "    <tr style=\"text-align: right;\">\n",
              "      <th></th>\n",
              "      <th>TV</th>\n",
              "      <th>Radio</th>\n",
              "      <th>Newspaper</th>\n",
              "      <th>Sales</th>\n",
              "    </tr>\n",
              "  </thead>\n",
              "  <tbody>\n",
              "    <tr>\n",
              "      <th>count</th>\n",
              "      <td>200.000000</td>\n",
              "      <td>200.000000</td>\n",
              "      <td>200.000000</td>\n",
              "      <td>200.000000</td>\n",
              "    </tr>\n",
              "    <tr>\n",
              "      <th>mean</th>\n",
              "      <td>147.042500</td>\n",
              "      <td>23.264000</td>\n",
              "      <td>30.554000</td>\n",
              "      <td>14.022500</td>\n",
              "    </tr>\n",
              "    <tr>\n",
              "      <th>std</th>\n",
              "      <td>85.854236</td>\n",
              "      <td>14.846809</td>\n",
              "      <td>21.778621</td>\n",
              "      <td>5.217457</td>\n",
              "    </tr>\n",
              "    <tr>\n",
              "      <th>min</th>\n",
              "      <td>0.700000</td>\n",
              "      <td>0.000000</td>\n",
              "      <td>0.300000</td>\n",
              "      <td>1.600000</td>\n",
              "    </tr>\n",
              "    <tr>\n",
              "      <th>25%</th>\n",
              "      <td>74.375000</td>\n",
              "      <td>9.975000</td>\n",
              "      <td>12.750000</td>\n",
              "      <td>10.375000</td>\n",
              "    </tr>\n",
              "    <tr>\n",
              "      <th>50%</th>\n",
              "      <td>149.750000</td>\n",
              "      <td>22.900000</td>\n",
              "      <td>25.750000</td>\n",
              "      <td>12.900000</td>\n",
              "    </tr>\n",
              "    <tr>\n",
              "      <th>75%</th>\n",
              "      <td>218.825000</td>\n",
              "      <td>36.525000</td>\n",
              "      <td>45.100000</td>\n",
              "      <td>17.400000</td>\n",
              "    </tr>\n",
              "    <tr>\n",
              "      <th>max</th>\n",
              "      <td>296.400000</td>\n",
              "      <td>49.600000</td>\n",
              "      <td>114.000000</td>\n",
              "      <td>27.000000</td>\n",
              "    </tr>\n",
              "  </tbody>\n",
              "</table>\n",
              "</div>"
            ],
            "text/plain": [
              "               TV       Radio   Newspaper       Sales\n",
              "count  200.000000  200.000000  200.000000  200.000000\n",
              "mean   147.042500   23.264000   30.554000   14.022500\n",
              "std     85.854236   14.846809   21.778621    5.217457\n",
              "min      0.700000    0.000000    0.300000    1.600000\n",
              "25%     74.375000    9.975000   12.750000   10.375000\n",
              "50%    149.750000   22.900000   25.750000   12.900000\n",
              "75%    218.825000   36.525000   45.100000   17.400000\n",
              "max    296.400000   49.600000  114.000000   27.000000"
            ]
          },
          "metadata": {
            "tags": []
          },
          "execution_count": 17
        }
      ]
    },
    {
      "cell_type": "markdown",
      "metadata": {
        "id": "tjktVQbLSwq4",
        "colab_type": "text"
      },
      "source": [
        "Task-3\n",
        "**Relationship between Features and Responce**"
      ]
    },
    {
      "cell_type": "code",
      "metadata": {
        "id": "ULnWPRQzS7cE",
        "colab_type": "code",
        "colab": {
          "base_uri": "https://localhost:8080/",
          "height": 514
        },
        "outputId": "20f111d0-7d01-4e05-f9ba-a46ad9800a58"
      },
      "source": [
        "sns.pairplot(advert, x_vars = ['TV' , 'Radio' , 'Newspaper'] , y_vars=['Sales'] , palette = 'spring'  , height=7)"
      ],
      "execution_count": 21,
      "outputs": [
        {
          "output_type": "execute_result",
          "data": {
            "text/plain": [
              "<seaborn.axisgrid.PairGrid at 0x7fcdbdf9ee10>"
            ]
          },
          "metadata": {
            "tags": []
          },
          "execution_count": 21
        },
        {
          "output_type": "display_data",
          "data": {
            "image/png": "[encoded data removed]",
            "text/plain": [
              "<Figure size 1512x504 with 3 Axes>"
            ]
          },
          "metadata": {
            "tags": [],
            "needs_background": "light"
          }
        }
      ]
    },
    {
      "cell_type": "markdown",
      "metadata": {
        "id": "fR1as7StWNpp",
        "colab_type": "text"
      },
      "source": [
        "Task-4\n",
        "\n",
        "**Multiple** **Linear** **Regression**\n",
        "**EstimatingCoefficients**"
      ]
    },
    {
      "cell_type": "code",
      "metadata": {
        "id": "3FN6a-TfWrJB",
        "colab_type": "code",
        "colab": {
          "base_uri": "https://localhost:8080/",
          "height": 50
        },
        "outputId": "739cd1ef-edbd-4b9a-87d1-e42faa3297c6"
      },
      "source": [
        "from sklearn.linear_model import LinearRegression\n",
        "\n",
        "lm1 = LinearRegression();\n",
        "x = advert.iloc[: , :-1]\n",
        "y = advert.iloc[:  , -1:]\n",
        "lm1.fit(x,y)\n",
        "\n",
        "print(lm1.intercept_)\n",
        "print(lm1.coef_)"
      ],
      "execution_count": 25,
      "outputs": [
        {
          "output_type": "stream",
          "text": [
            "[2.93888937]\n",
            "[[ 0.04576465  0.18853002 -0.00103749]]\n"
          ],
          "name": "stdout"
        }
      ]
    },
    {
      "cell_type": "code",
      "metadata": {
        "id": "PvJitQnPdEdq",
        "colab_type": "code",
        "colab": {
          "base_uri": "https://localhost:8080/",
          "height": 166
        },
        "outputId": "77efb0c8-6dcb-4583-ce37-82f7141ed772"
      },
      "source": [
        "list(zip(['TV','Radio','Newspaper'] , lm1.coef_))\n",
        "advert.corr()"
      ],
      "execution_count": 29,
      "outputs": [
        {
          "output_type": "execute_result",
          "data": {
            "text/html": [
              "<div>\n",
              "<style scoped>\n",
              "    .dataframe tbody tr th:only-of-type {\n",
              "        vertical-align: middle;\n",
              "    }\n",
              "\n",
              "    .dataframe tbody tr th {\n",
              "        vertical-align: top;\n",
              "    }\n",
              "\n",
              "    .dataframe thead th {\n",
              "        text-align: right;\n",
              "    }\n",
              "</style>\n",
              "<table border=\"1\" class=\"dataframe\">\n",
              "  <thead>\n",
              "    <tr style=\"text-align: right;\">\n",
              "      <th></th>\n",
              "      <th>TV</th>\n",
              "      <th>Radio</th>\n",
              "      <th>Newspaper</th>\n",
              "      <th>Sales</th>\n",
              "    </tr>\n",
              "  </thead>\n",
              "  <tbody>\n",
              "    <tr>\n",
              "      <th>TV</th>\n",
              "      <td>1.000000</td>\n",
              "      <td>0.054809</td>\n",
              "      <td>0.056648</td>\n",
              "      <td>0.782224</td>\n",
              "    </tr>\n",
              "    <tr>\n",
              "      <th>Radio</th>\n",
              "      <td>0.054809</td>\n",
              "      <td>1.000000</td>\n",
              "      <td>0.354104</td>\n",
              "      <td>0.576223</td>\n",
              "    </tr>\n",
              "    <tr>\n",
              "      <th>Newspaper</th>\n",
              "      <td>0.056648</td>\n",
              "      <td>0.354104</td>\n",
              "      <td>1.000000</td>\n",
              "      <td>0.228299</td>\n",
              "    </tr>\n",
              "    <tr>\n",
              "      <th>Sales</th>\n",
              "      <td>0.782224</td>\n",
              "      <td>0.576223</td>\n",
              "      <td>0.228299</td>\n",
              "      <td>1.000000</td>\n",
              "    </tr>\n",
              "  </tbody>\n",
              "</table>\n",
              "</div>"
            ],
            "text/plain": [
              "                 TV     Radio  Newspaper     Sales\n",
              "TV         1.000000  0.054809   0.056648  0.782224\n",
              "Radio      0.054809  1.000000   0.354104  0.576223\n",
              "Newspaper  0.056648  0.354104   1.000000  0.228299\n",
              "Sales      0.782224  0.576223   0.228299  1.000000"
            ]
          },
          "metadata": {
            "tags": []
          },
          "execution_count": 29
        }
      ]
    },
    {
      "cell_type": "code",
      "metadata": {
        "id": "1b8ewlFuhq8n",
        "colab_type": "code",
        "colab": {
          "base_uri": "https://localhost:8080/",
          "height": 286
        },
        "outputId": "04e40d0f-7ea5-4215-9291-969b6a79ea0d"
      },
      "source": [
        "sns.heatmap(advert.corr() , annot=True)  ## it stats why we cant apply we seperate simple linear regression on each feature because there is feature dependecies is there"
      ],
      "execution_count": 34,
      "outputs": [
        {
          "output_type": "execute_result",
          "data": {
            "text/plain": [
              "<matplotlib.axes._subplots.AxesSubplot at 0x7fcdb9b1ef28>"
            ]
          },
          "metadata": {
            "tags": []
          },
          "execution_count": 34
        },
        {
          "output_type": "display_data",
          "data": {
            "image/png": "[encoded data removed]",
            "text/plain": [
              "<Figure size 432x288 with 2 Axes>"
            ]
          },
          "metadata": {
            "tags": [],
            "needs_background": "light"
          }
        }
      ]
    },
    {
      "cell_type": "markdown",
      "metadata": {
        "id": "ZEtHfIWdj7zY",
        "colab_type": "text"
      },
      "source": [
        "Task - 5\n",
        "**Feature Selection**\n",
        "\n",
        "\n"
      ]
    },
    {
      "cell_type": "code",
      "metadata": {
        "id": "49VnbZRMkI-V",
        "colab_type": "code",
        "colab": {
          "base_uri": "https://localhost:8080/",
          "height": 34
        },
        "outputId": "08c1eee6-b698-4534-c211-24e52211678c"
      },
      "source": [
        "from sklearn.metrics import r2_score\n",
        "\n",
        "lm2 = LinearRegression().fit(x[['TV','Radio'] ], y)\n",
        "lm2_pred = lm2.predict(x[['TV' , 'Radio']]);\n",
        "\n",
        "print(\"r^2 score = \" , r2_score(y,lm2_pred))"
      ],
      "execution_count": 44,
      "outputs": [
        {
          "output_type": "stream",
          "text": [
            "r^2 score =  0.8971942610828957\n"
          ],
          "name": "stdout"
        }
      ]
    },
    {
      "cell_type": "code",
      "metadata": {
        "id": "We3OrKMxnek7",
        "colab_type": "code",
        "colab": {
          "base_uri": "https://localhost:8080/",
          "height": 34
        },
        "outputId": "c8778803-1d9a-4339-874f-d59c5245fae6"
      },
      "source": [
        "from sklearn.metrics import r2_score\n",
        "\n",
        "lm2 = LinearRegression().fit(x[['TV','Radio','Newspaper'] ], y)\n",
        "lm2_pred = lm2.predict(x[['TV' , 'Radio','Newspaper']]);\n",
        "\n",
        "print(\"r^2 score = \" , r2_score(y,lm2_pred))"
      ],
      "execution_count": 45,
      "outputs": [
        {
          "output_type": "stream",
          "text": [
            "r^2 score =  0.8972106381789522\n"
          ],
          "name": "stdout"
        }
      ]
    },
    {
      "cell_type": "markdown",
      "metadata": {
        "id": "zHZcgZxApe2w",
        "colab_type": "text"
      },
      "source": [
        "Task - 6\n",
        "\n",
        "**Model Evaluation using Train-Test split**"
      ]
    },
    {
      "cell_type": "markdown",
      "metadata": {
        "id": "FD5-STgWqZ2-",
        "colab_type": "text"
      },
      "source": [
        "**Mean Absolute Error :**(MAE) is the mean of the absolute value of error\n"
      ]
    },
    {
      "cell_type": "markdown",
      "metadata": {
        "id": "4Xz21HvEqu_n",
        "colab_type": "text"
      },
      "source": [
        "**Mean Squared Error (MSE)**is the mean of the squaered errors"
      ]
    },
    {
      "cell_type": "markdown",
      "metadata": {
        "id": "P4MePBRRrAn6",
        "colab_type": "text"
      },
      "source": [
        "**Root Mean Squared Erro (RMSE)** is the mean of the squared erro"
      ]
    },
    {
      "cell_type": "code",
      "metadata": {
        "id": "yakvaLVgrOrh",
        "colab_type": "code",
        "colab": {
          "base_uri": "https://localhost:8080/",
          "height": 50
        },
        "outputId": "85442530-abdc-4811-a6f9-3bdf9d0fe1a6"
      },
      "source": [
        "from sklearn.model_selection import train_test_split\n",
        "from sklearn.metrics import mean_squared_error\n",
        "y = advert.Sales\n",
        "x_train , x_test , y_train , y_test = train_test_split(x,y , random_state = 1 , test_size = 0.4)\n",
        "\n",
        "lm4 = LinearRegression().fit(x_train , y_train)\n",
        "lm4_preds = lm4.predict(x_test)\n",
        "\n",
        "print(\"RMSE :\" , np.sqrt(mean_squared_error(y_test,lm4_preds)))\n",
        "print(\"R2_score :\" ,r2_score(y_test , lm4_preds))"
      ],
      "execution_count": 63,
      "outputs": [
        {
          "output_type": "stream",
          "text": [
            "RMSE : 1.5635772207961516\n",
            "R2_score : 0.9143968806980323\n"
          ],
          "name": "stdout"
        }
      ]
    },
    {
      "cell_type": "code",
      "metadata": {
        "id": "ZoVsoZzzwJbD",
        "colab_type": "code",
        "colab": {
          "base_uri": "https://localhost:8080/",
          "height": 50
        },
        "outputId": "48783590-2256-49f3-db16-24016fcd2da1"
      },
      "source": [
        "X = advert[['TV','Radio']]\n",
        "x_train , x_test , y_train , y_test = train_test_split(X,y , random_state = 1 , test_size = 0.4)\n",
        "\n",
        "lm5 = LinearRegression().fit(x_train , y_train)\n",
        "lm5_preds = lm5.predict(x_test)\n",
        "\n",
        "print(\"RMSE :\" , np.sqrt(mean_squared_error(y_test,lm5_preds)))\n",
        "print(\"R2_score :\" ,r2_score(y_test , lm5_preds))"
      ],
      "execution_count": 64,
      "outputs": [
        {
          "output_type": "stream",
          "text": [
            "RMSE : 1.5576796054790363\n",
            "R2_score : 0.9150414310760966\n"
          ],
          "name": "stdout"
        }
      ]
    },
    {
      "cell_type": "code",
      "metadata": {
        "id": "CFPfExdWyxz6",
        "colab_type": "code",
        "colab": {
          "base_uri": "https://localhost:8080/",
          "height": 378
        },
        "outputId": "d69f115a-29a0-4e10-8fdc-73f93b4e27a7"
      },
      "source": [
        "from yellowbrick.regressor import PredictionError , ResidualsPlot\n",
        "visualizer = PredictionError(lm5.fit(x_train,y_train))\n",
        "visualizer.score(x_test,y_test)\n",
        "visualizer.poof()\n"
      ],
      "execution_count": 65,
      "outputs": [
        {
          "output_type": "display_data",
          "data": {
            "image/png": "[encoded data removed]",
            "text/plain": [
              "<Figure size 576x396 with 1 Axes>"
            ]
          },
          "metadata": {
            "tags": []
          }
        }
      ]
    },
    {
      "cell_type": "markdown",
      "metadata": {
        "id": "wXpWtXUZ4yWv",
        "colab_type": "text"
      },
      "source": [
        "Task - 7\n",
        "\n",
        "**Synergy Effect(Interection effect)**"
      ]
    },
    {
      "cell_type": "code",
      "metadata": {
        "id": "J2QOpfqb5Al1",
        "colab_type": "code",
        "colab": {
          "base_uri": "https://localhost:8080/",
          "height": 50
        },
        "outputId": "835056a1-628e-4dd4-eabe-c8ecf2e359a7"
      },
      "source": [
        "advert['Interection']  = advert['TV'] * advert['Radio']\n",
        "\n",
        "X = advert[['TV' ,'Radio' , 'Interection']]\n",
        "\n",
        "x_train , x_test , y_train , y_test = train_test_split(X,y , random_state = 1 , test_size = 0.4)\n",
        "\n",
        "lm6 = LinearRegression().fit(x_train , y_train)\n",
        "lm6_preds = lm6.predict(x_test)\n",
        "\n",
        "print(\"RMSE :\" , np.sqrt(mean_squared_error(y_test,lm6_preds)))\n",
        "print(\"R2_score :\" ,r2_score(y_test , lm6_preds))"
      ],
      "execution_count": 66,
      "outputs": [
        {
          "output_type": "stream",
          "text": [
            "RMSE : 0.8156464814498595\n",
            "R2_score : 0.9767054215879347\n"
          ],
          "name": "stdout"
        }
      ]
    },
    {
      "cell_type": "code",
      "metadata": {
        "id": "XRIEDIRx5knp",
        "colab_type": "code",
        "colab": {
          "base_uri": "https://localhost:8080/",
          "height": 378
        },
        "outputId": "c1b76eb8-86f7-4212-c376-b6ebba4df3ca"
      },
      "source": [
        "from yellowbrick.regressor import PredictionError , ResidualsPlot\n",
        "\n",
        "visualizer  = PredictionError(lm6.fit(x_train,y_train))\n",
        "visualizer.score(x_test,y_test)\n",
        "visualizer.poof()"
      ],
      "execution_count": 67,
      "outputs": [
        {
          "output_type": "display_data",
          "data": {
            "image/png": "[encoded data removed]",
            "text/plain": [
              "<Figure size 576x396 with 1 Axes>"
            ]
          },
          "metadata": {
            "tags": []
          }
        }
      ]
    },
    {
      "cell_type": "markdown",
      "metadata": {
        "id": "9-VDDqunXWfb",
        "colab_type": "text"
      },
      "source": [
        "By the end of this project, I am able to:\n",
        "\n",
        "- Build univariate and multivariate linear regression models using scikit-learn\n",
        "- Perform Exploratory Data Analysis (EDA) and data visualization with seaborn\n",
        "- Evaluate model fit and accuracy using numerical measures such as R² and RMSE\n",
        "- Model interaction effects in regression using basic feature engineering techniques"
      ]
    }
  ]
}